{
 "cells": [
  {
   "cell_type": "code",
   "execution_count": null,
   "metadata": {},
   "outputs": [],
   "source": [
    "Collin Ryan Section A"
   ]
  },
  {
   "cell_type": "markdown",
   "metadata": {},
   "source": [
    "DS 256 Data Science Programming, Fall 2024\n",
    "\n",
    "Prof Eatai Roth\n",
    "\n",
    "## Problem Set 5\n",
    "Due 11/14/2024 by 8p"
   ]
  },
  {
   "cell_type": "markdown",
   "metadata": {},
   "source": [
    "## Titanic Pandas\n",
    "(sounds cute...is not)\n",
    "\n",
    "In this assignment, we'll explore the titanic training data set. These data represent a portion of the passenger manifest of the Titanic, detailing the passengers and whether or not they survived the fateful crash.\n",
    "\n",
    "The columns are mostly self-explanatory. Key to less-obvious columns:\n",
    " - Sex - male=1 / female=0 \n",
    " - Parch - number of parents/children traveling with\n",
    " - SibSp - numbers of siblings/spouses traveling with\n",
    " - PClass - ticket class (like first class, business, economy)\n",
    "\n",
    "\n",
    " To start, you should import packages, ```pandas``` (as pd) and ```matplotlib.pyplot``` (as plt). Then load the data from ```titanic_train_clean.csv``` into a pandas dataframe.\n",
    "\n",
    " Feel free to add more code blocks if needed. When making figures, don't forget to label axes and provide titles and legends when appropriate."
   ]
  },
  {
   "cell_type": "code",
   "execution_count": 6,
   "metadata": {},
   "outputs": [],
   "source": [
    "import pandas as pd\n",
    "import matplotlib.pyplot as plt\n",
    "df = pd.read_csv(\"titanic.csv\")\n"
   ]
  },
  {
   "cell_type": "markdown",
   "metadata": {},
   "source": [
    "## Homework Problems\n",
    "\n",
    "For each of the problems, you'll write some code to find the answer. If there is a written/short answer component, use the provided text field."
   ]
  },
  {
   "cell_type": "markdown",
   "metadata": {},
   "source": [
    "### Problem 1\n",
    "\n",
    " - How many passengers are recorded in this log?\n",
    " - What percentage are male?\n",
    " - What percentage survived?\n",
    "\n",
    "Hint: You can find these three answers with a single command."
   ]
  },
  {
   "cell_type": "code",
   "execution_count": null,
   "metadata": {},
   "outputs": [],
   "source": []
  },
  {
   "cell_type": "code",
   "execution_count": 16,
   "metadata": {},
   "outputs": [
    {
     "name": "stdout",
     "output_type": "stream",
     "text": [
      "<class 'pandas.core.frame.DataFrame'>\n",
      "RangeIndex: 891 entries, 0 to 890\n",
      "Data columns (total 14 columns):\n",
      " #   Column       Non-Null Count  Dtype  \n",
      "---  ------       --------------  -----  \n",
      " 0   Age          891 non-null    float64\n",
      " 1   Cabin        204 non-null    object \n",
      " 2   Embarked     891 non-null    object \n",
      " 3   Fare         891 non-null    float64\n",
      " 4   Name         891 non-null    object \n",
      " 5   Parch        891 non-null    int64  \n",
      " 6   PassengerId  891 non-null    int64  \n",
      " 7   Pclass       891 non-null    int64  \n",
      " 8   Sex          891 non-null    int64  \n",
      " 9   SibSp        891 non-null    int64  \n",
      " 10  Survived     891 non-null    int64  \n",
      " 11  Ticket       891 non-null    object \n",
      " 12  Title        891 non-null    object \n",
      " 13  Family_Size  891 non-null    int64  \n",
      "dtypes: float64(2), int64(7), object(5)\n",
      "memory usage: 97.6+ KB\n",
      "64.75869809203144\n",
      "38.38383838383838\n",
      "891\n"
     ]
    }
   ],
   "source": [
    "df.info()\n",
    "total = df[\"Age\"].count()\n",
    "males = (df['Sex'] == 1).sum()\n",
    "survived = (df['Survived'] == 1).sum()\n",
    "malesPercent = males/total * 100\n",
    "survivedPercent = survived/total * 100\n",
    "print(malesPercent)\n",
    "print(survivedPercent)\n",
    "print(total)\n",
    "\n"
   ]
  },
  {
   "cell_type": "markdown",
   "metadata": {},
   "source": [
    "Your written answer:\n",
    "\n",
    " - 891 total passengers\n",
    " - 64.75% were male\n",
    " - 38.38% survived"
   ]
  },
  {
   "cell_type": "markdown",
   "metadata": {},
   "source": [
    "### Problem 2:\n",
    "\n",
    " - What percentage of female passengers survived?\n",
    " - What percentage of male passengers survived?"
   ]
  },
  {
   "cell_type": "code",
   "execution_count": 24,
   "metadata": {},
   "outputs": [
    {
     "name": "stdout",
     "output_type": "stream",
     "text": [
      "74.20382165605095\n",
      "18.890814558058924\n"
     ]
    }
   ],
   "source": [
    "femaleSurvive = df[(df['Sex'] == 0) & (df['Survived'] == 1)].shape[0]\n",
    "females = total - males\n",
    "percentF = femaleSurvive / females * 100\n",
    "print(percentF)\n",
    "\n",
    "maleSurvive = df[(df['Sex'] == 1) & (df['Survived'] == 1)].shape[0]\n",
    "percentM = maleSurvive / males * 100\n",
    "\n",
    "print(percentM)"
   ]
  },
  {
   "cell_type": "markdown",
   "metadata": {},
   "source": [
    "#### Your written answer:\n",
    "\n",
    " - 74.20% of female passengers survived\n",
    " - 18.89% of male passengers survived"
   ]
  },
  {
   "cell_type": "markdown",
   "metadata": {},
   "source": [
    "### Problem 3\n",
    "\n",
    "Use ```groupby``` and ```agg``` to find the percentage of the total tickets and the survivorship percentage for each class of ticket."
   ]
  },
  {
   "cell_type": "code",
   "execution_count": 37,
   "metadata": {},
   "outputs": [
    {
     "name": "stdout",
     "output_type": "stream",
     "text": [
      "24.242424242424242\n",
      "20.65095398428732\n",
      "55.106621773288445\n",
      "        totalTickets  survivorship\n",
      "Pclass                            \n",
      "1          24.242424     62.962963\n",
      "2          20.650954     47.282609\n",
      "3          55.106622     24.236253\n"
     ]
    }
   ],
   "source": [
    "\n",
    "\n",
    "summ = df.groupby('Pclass').agg(\n",
    "    totalTickets = ('Pclass', 'size'),\n",
    "    survivorship = ('Survived', 'mean')\n",
    ")\n",
    "\n",
    "summ['totalTickets'] = (summ['totalTickets'] / summ['totalTickets'].sum()) * 100\n",
    "summ['survivorship'] = summ['survivorship'] * 100\n",
    "\n",
    "print(summ[['totalTickets','survivorship']])"
   ]
  },
  {
   "cell_type": "markdown",
   "metadata": {},
   "source": [
    "Your written answer:\n",
    "\n",
    " - Class 1 \n",
    "    - % tickets: 24.24%\n",
    "    - % survivorship: 62.96%\n",
    "- Class 2 \n",
    "    - % tickets: 20.65%\n",
    "    - % survivorship: 47.28%\n",
    "- Class 3\n",
    "    - % tickets: 55.11%\n",
    "    - % survivorship: 24.25%\n"
   ]
  },
  {
   "cell_type": "markdown",
   "metadata": {},
   "source": [
    "##Question 4:\n",
    "Create two new dataframes corresponding to survivors and non-survivors keeping only the columns: age, name, and sex. Display the first five rows of these new dataframes.\n",
    "\n",
    "Create a figure showing the distribution of age by sex and survivorship (four histograms on the same axes: male-survivors, female-survivors, male-unlucky, female-unlucky). Choose colors and histtype (see the documentation for histogram) to make this figure easy to read and interpret."
   ]
  },
  {
   "cell_type": "code",
   "execution_count": 49,
   "metadata": {},
   "outputs": [
    {
     "data": {
      "text/plain": [
       "<matplotlib.legend.Legend at 0x1a604f3d940>"
      ]
     },
     "execution_count": 49,
     "metadata": {},
     "output_type": "execute_result"
    },
    {
     "data": {
      "image/png": "[encoded data removed]",
      "text/plain": [
       "<Figure size 1200x800 with 1 Axes>"
      ]
     },
     "metadata": {},
     "output_type": "display_data"
    }
   ],
   "source": [
    "survivors = df[df[\"Survived\"] == 1][['Age', 'Name', 'Sex']]\n",
    "non_survivors = df[df[\"Survived\"] == 0][['Age', 'Name', 'Sex']]\n",
    "\n",
    "#males\n",
    "plt.figure(figsize=(12,8))\n",
    "plt.hist(survivors[survivors['Sex'] == 1]['Age'].dropna(),\n",
    "         bins = 20, alpha = 0.25, label = \"Male Survivor %\", color = 'blue')\n",
    "plt.hist(non_survivors[non_survivors['Sex'] == 1]['Age'].dropna(),\n",
    "         bins = 20, alpha = 0.25, label = \"Male Unlucky %\", color = 'purple')\n",
    "\n",
    "#females\n",
    "plt.hist(survivors[survivors['Sex'] == 0]['Age'].dropna(),\n",
    "         bins = 20, alpha = 0.25, label = \"Female Survivor %\",color = 'orange')\n",
    "\n",
    "plt.hist(non_survivors[non_survivors['Sex'] == 0]['Age'].dropna(),\n",
    "         bins = 20, alpha = 0.25, label = \"Female Unlucky %\",color = \"red\")\n",
    "\n",
    "#extra tidbits\n",
    "plt.xlabel(\"Age\")\n",
    "plt.ylabel(\"Survivorship\")\n",
    "plt.title(\"Age Distribution of Sexes and Survivorship on the Titanic\")\n",
    "plt.legend()"
   ]
  },
  {
   "cell_type": "markdown",
   "metadata": {},
   "source": [
    "### Problem 5\n",
    "\n",
    "Now that we've inspected the data, let's build a classifier (you'll compare two models) that predicts which passengers survived. These are the steps you should take:\n",
    "\n",
    " - Choose your features. The label will be survivorship.\n",
    " - Split the data into training and test sets.\n",
    " - Standardize the values using StandardScaler\n",
    " - Choose two of the following model types: KNN, SVM, Decision Tree. Create those models and select hyper-parameters.\n",
    " - Fit your models to the training data.\n",
    " - Apply the fit models to create predictions from the test data.\n",
    " - For each model, create a confusion matrix for the training and test data. You may want to revisit the hyper-parameters and re-fit the models.\n",
    "\n",
    " - Answer the questions at the bottom of the code block."
   ]
  },
  {
   "cell_type": "code",
   "execution_count": null,
   "metadata": {},
   "outputs": [],
   "source": [
    "'''Your code here'''"
   ]
  },
  {
   "cell_type": "markdown",
   "metadata": {},
   "source": [
    "#### **Questions**\n",
    "\n",
    "How does the model performance on the test data compare to the performance on the training data? \n",
    " \n",
    " - \n",
    "\n",
    "\n",
    "Which models did you fit and which worked better?\n",
    " \n",
    " - "
   ]
  }
 ],
 "metadata": {
  "kernelspec": {
   "display_name": "Python 3 (ipykernel)",
   "language": "python",
   "name": "python3"
  },
  "language_info": {
   "codemirror_mode": {
    "name": "ipython",
    "version": 3
   },
   "file_extension": ".py",
   "mimetype": "text/x-python",
   "name": "python",
   "nbconvert_exporter": "python",
   "pygments_lexer": "ipython3",
   "version": "3.12.4"
  }
 },
 "nbformat": 4,
 "nbformat_minor": 4
}
